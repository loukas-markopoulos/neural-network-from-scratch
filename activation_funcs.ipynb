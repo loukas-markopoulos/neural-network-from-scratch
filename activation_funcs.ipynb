{
 "cells": [
  {
   "cell_type": "markdown",
   "metadata": {},
   "source": [
    "The following are simple activation functions that are used in different models. \n",
    "\n",
    "To use them in a layer, they must be defined as a class that inherits form the Activation class defined in 'NeuralNetwork.ipynb'.\n",
    "\n",
    "Relu, sigmoid and tanh will be the defined for this model. A linear activation function (gradient=1) requires no activation function layer after the dense layer."
   ]
  },
  {
   "cell_type": "code",
   "execution_count": 1,
   "metadata": {},
   "outputs": [],
   "source": [
    "import numpy as np\n",
    "from NeuralNetwork import Activation"
   ]
  },
  {
   "cell_type": "code",
   "execution_count": null,
   "metadata": {},
   "outputs": [],
   "source": [
    "def relu(x):\n",
    "    x = x.astype('float64')\n",
    "    return np.maximum(0,x)\n",
    "\n",
    "def relu_deriv_base(x):\n",
    "    if x > 0:\n",
    "       return 1\n",
    "    else:\n",
    "        return 0 \n",
    "\n",
    "relu_deriv_vectorized = np.vectorize(relu_deriv_base)\n",
    "\n",
    "def relu_deriv(x):\n",
    "    return relu_deriv_vectorized(x)\n"
   ]
  },
  {
   "cell_type": "code",
   "execution_count": null,
   "metadata": {},
   "outputs": [],
   "source": [
    "def sigmoid(x):\n",
    "    x = x.astype('float64')\n",
    "    return 1 / (1 + np.exp(-1 * x))\n",
    "\n",
    "def sigmoid_deriv(x):\n",
    "    return sigmoid(x) * (1 - sigmoid(x))\n"
   ]
  },
  {
   "cell_type": "code",
   "execution_count": null,
   "metadata": {},
   "outputs": [],
   "source": [
    "def tanh(x):\n",
    "    x = x.astype('float64')\n",
    "    return np.tanh(x)\n",
    "\n",
    "def tanh_deriv(x):\n",
    "    return 1 - tanh(x) ** 2\n"
   ]
  }
 ],
 "metadata": {
  "kernelspec": {
   "display_name": ".venv",
   "language": "python",
   "name": "python3"
  },
  "language_info": {
   "codemirror_mode": {
    "name": "ipython",
    "version": 3
   },
   "file_extension": ".py",
   "mimetype": "text/x-python",
   "name": "python",
   "nbconvert_exporter": "python",
   "pygments_lexer": "ipython3",
   "version": "3.12.4"
  }
 },
 "nbformat": 4,
 "nbformat_minor": 2
}
